{
 "cells": [
  {
   "cell_type": "code",
   "execution_count": 1,
   "metadata": {},
   "outputs": [],
   "source": [
    "from devito import *\n",
    "from examples.seismic.source import WaveletSource, RickerSource, GaborSource, TimeAxis\n",
    "from examples.seismic import *\n",
    "import numpy as np\n",
    "from scipy import signal\n",
    "from sympy import init_printing, latex\n",
    "init_printing(use_latex=True)"
   ]
  },
  {
   "cell_type": "code",
   "execution_count": 2,
   "metadata": {},
   "outputs": [],
   "source": [
    "%matplotlib inline"
   ]
  },
  {
   "cell_type": "markdown",
   "metadata": {},
   "source": [
    "## Example: Viscoelastic Finite-difference modeling \n",
    "\n",
    "The example considered here is based on Numerical example 1 (page 1448) introduced in\n",
    "\n",
    "[1] Robertsson, J.O., Blanch, J.O. and Symes, W.W., 1994. Viscoelastic finite-difference modeling. Geophysics, 59(9), pp.1444-1456. \n",
    "https://library.seg.org/doi/abs/10.1190/1.1443701\n",
    "\n",
    "A more detailed explanation of the Visco-Elastic Finite-Difference scheme used in [1] is provided by [2] (page 15) in more detail:\n",
    "\n",
    "[2] Thorbecke, J., 2012. 2d finite-difference wavefield modelling. Alındığı tarih, 1, p.2012.\n",
    "https://janth.home.xs4all.nl/Software/fdelmodcManual.pdf\n",
    "\n",
    "This notebook aims to model anelastic behavior exhibited in real earth media by using Devito to generate the Viscoelastic staggered Finite-Difference scheme given by Robertsson et al.[1] and 'reproduce' the simulations in figure 5 for the 2D case in Numerical Example 1.\n",
    "\n",
    "The domain under consideration, as specified by the paper, has a spatial extent of $700m \\times 350m$ with a grid spacing $h$ of $1m$. Let $x$ represent the horizontal coordinate and $z$ the depth. \n",
    "\n",
    "\n",
    "\n"
   ]
  },
  {
   "cell_type": "code",
   "execution_count": 3,
   "metadata": {},
   "outputs": [],
   "source": [
    "# Initial grid: 700m x 350m, with spacing 1m\n",
    "\n",
    "# Define a physical size\n",
    "Lx = 700.\n",
    "Lz = 350\n",
    "h = 1              # 1 metre spacing\n",
    "Nx = int(Lx/h)+1\n",
    "Nz = int(Lz/h)+1\n",
    "\n",
    "spacing = (h, h)  # Grid spacing in m. \n",
    "\n",
    "extent = (Lx, Lz) # Dimensions of domain\n",
    "shape = (Nx, Nz) # Number of grid point (nx, nz)\n",
    "\n",
    "x = SpaceDimension(name='x', spacing=Constant(name='h_x', value=extent[0]/(shape[0]-1)))\n",
    "z = SpaceDimension(name='z', spacing=Constant(name='h_z', value=extent[1]/(shape[1]-1)))\n",
    "grid = Grid(extent=extent, shape=shape, dimensions=(x, z))"
   ]
  },
  {
   "cell_type": "markdown",
   "metadata": {},
   "source": [
    "## Modelling the velocity profile of the incised valley\n",
    "\n",
    "The following code block is used to build the required topology of an incised valley as specified by Figure 4 [1]. A gaussian is used to model the topology of each layer in the incised valley model."
   ]
  },
  {
   "cell_type": "code",
   "execution_count": 54,
   "metadata": {},
   "outputs": [
    {
     "name": "stdout",
     "output_type": "stream",
     "text": [
      "<class 'devito.data.data.Data'>\n"
     ]
    },
    {
     "data": {
      "image/png": "[encoded data removed]",
      "text/plain": [
       "<Figure size 432x288 with 1 Axes>"
      ]
     },
     "metadata": {
      "needs_background": "light"
     },
     "output_type": "display_data"
    }
   ],
   "source": [
    "##Testing new Viscoelastic model class from model.py\n",
    "\n",
    "#Test case just to make sure topology is correct\n",
    "\n",
    "origin = (0., 0.)\n",
    "\n",
    "def gaussian(x, mu, sig):\n",
    "    return np.exp(-np.power(x - mu, 2.) / (2 * np.power(sig, 2.)))\n",
    "\n",
    "# Define a velocity profile. The velocity is in km/s\n",
    "V_p = np.empty(shape, dtype=np.float32)\n",
    "V_p[:, :70] = 1.52 #water\n",
    "V_p[:, 70:80] = 1.60 #layer 1\n",
    "V_p[:, 80:90] = 1.75 #layer 2\n",
    "V_p[:, 80:] = 2.2 #layer 4\n",
    "#Incised Layers\n",
    "for i in range(V_p.shape[0]):\n",
    "    j1 = int(gaussian(i, 350, 85) * 85)\n",
    "    j2 = int(gaussian(i, 350, 100) * 55)\n",
    "    if j1 > 10: V_p[i, 90 : 90 + j1] = 1.9 #layer 3\n",
    "    V_p[i, 80 : 80 + j2] = 1.75 #layer 2\n",
    "    \n",
    "Q_p = np.empty(shape, dtype=np.float32)\n",
    "Q_p[:, :70] = 10000 #water\n",
    "Q_p[:, 70:80] = 40 #layer 1\n",
    "Q_p[:, 80:90] = 50 #layer 2\n",
    "Q_p[:, 80:] = 100 #layer 4\n",
    "#Incised Layers\n",
    "for i in range(Q_p.shape[0]):\n",
    "    j1 = int(gaussian(i, 350, 85) * 85)\n",
    "    j2 = int(gaussian(i, 350, 100) * 55)\n",
    "    if j1 > 10: Q_p[i, 90 : 90 + j1] = 50 #layer 3\n",
    "    Q_p[i, 80 : 80 + j2] = 50 #layer 2\n",
    "\n",
    "V_s = np.empty(shape, dtype=np.float32)\n",
    "V_s[:, :70] = 0 #water\n",
    "V_s[:, 70:80] = 0.4 #layer 1\n",
    "V_s[:, 80:90] = 0.8 #layer 2\n",
    "V_s[:, 80:] = 1.2 #layer 4\n",
    "#Incised Layers\n",
    "for i in range(V_s.shape[0]):\n",
    "    j1 = int(gaussian(i, 350, 85) * 85)\n",
    "    j2 = int(gaussian(i, 350, 100) * 55)\n",
    "    if j1 > 10: V_s[i, 90 : 90 + j1] = 1.0 #layer 3\n",
    "    V_s[i, 80 : 80 + j2] = 0.8 #layer 2\n",
    "\n",
    "Q_s = np.empty(shape, dtype=np.float32)\n",
    "Q_s[:, :70] = 0 #water\n",
    "Q_s[:, 70:80] = 30 #layer 1\n",
    "Q_s[:, 80:90] = 35 #layer 2\n",
    "Q_s[:, 80:] = 70 #layer 4\n",
    "#Incised Layers\n",
    "for i in range(Q_s.shape[0]):\n",
    "    j1 = int(gaussian(i, 350, 85) * 85)\n",
    "    j2 = int(gaussian(i, 350, 100) * 55)\n",
    "    if j1 > 10: Q_s[i, 90 : 90 + j1] = 45 #layer 3\n",
    "    Q_s[i, 80 : 80 + j2] = 35 #layer 2\n",
    "\n",
    "density = np.empty(shape, dtype=np.float32)\n",
    "density[:, :70] = 1.05 #water\n",
    "density[:, 70:80] = 1.3 #layer 1\n",
    "density[:, 80:90] = 1.5 #layer 2\n",
    "density[:, 80:] = 2.0 #layer 4\n",
    "\n",
    "#Incised Layers\n",
    "for i in range(density.shape[0]):\n",
    "    j1 = int(gaussian(i, 350, 85) * 85)\n",
    "    j2 = int(gaussian(i, 350, 100) * 55)\n",
    "    if j1 > 10: density[i, 90 : 90 + j1] = 1.5 #layer 3\n",
    "    density[i, 80 : 80 + j2] = 1.5 #layer 2\n",
    "\n",
    "nbpml = 20\n",
    "\n",
    "model_visco = ModelViscoElastic(vp = V_p, vs = V_s, qp = Q_p, qs = Q_s, rho = density, origin=origin, shape=shape, spacing=spacing,\n",
    "              space_order=4, nbpml = nbpml, dtype = np.float32)\n",
    "\n",
    "domain_size = 1.e-3 * np.array(model_visco.domain_size)\n",
    "extent = [model_visco.origin[0], model_visco.origin[0] + domain_size[0], model_visco.origin[1] + domain_size[1], model_visco.origin[1]]\n",
    "plt.imshow(np.transpose(model_visco.vp.data_with_halo), animated=True, cmap=cm.jet,\n",
    "            vmin=np.min(model_visco.vp.data_with_halo), vmax=np.max(model_visco.vp.data_with_halo), extent=extent)\n",
    "#Uncomment to plot without absorbing boundaries\n",
    "#plt.show()\n",
    "#plt.imshow(np.transpose(model_visco.vp.data), animated=True, cmap=cm.jet,\n",
    "            #vmin=np.min(model_visco.vp.data), vmax=np.max(model_visco.vp.data), extent=extent)\n",
    "plt.xlabel('X position (km)')\n",
    "plt.ylabel('Depth (km)')\n",
    "\n",
    "# print(type(V_p), V_p)\n",
    "# plot_velocity(model_visco)\n",
    "\n",
    "print(type(model_visco.vp.data_with_halo))"
   ]
  },
  {
   "cell_type": "markdown",
   "metadata": {},
   "source": [
    "## Ricker Wavelet as Explosive Source\n",
    "\n",
    "\n",
    "Ths seismic experiment is modeled using a Ricker Wavelet with a peak-frequency of $80$Hz as the source term which is located at $(200m,40m)$ given in Figure 4[1]. The source signature $g(t)$ is defined as the derivative of a Gaussian pulse:\n",
    "\n",
    "$$g(t) = -2 \\alpha(t - t_0)e^{-\\alpha(t-t_0)^2}$$\n",
    "\n",
    "The same timestep as Numerical Example 1 is used, $dt = 0.15ms$ which leads to the maximum Courant number of 0.33, in order to reproduce the same results."
   ]
  },
  {
   "cell_type": "code",
   "execution_count": 55,
   "metadata": {},
   "outputs": [],
   "source": [
    "class DGaussSource(WaveletSource):\n",
    "    \n",
    "    def wavelet(self, f0, t):\n",
    "        \"\"\"\n",
    "        Defines a wavelet with a peak frequency f0 at time t.\n",
    "\n",
    "        Parameters\n",
    "        ----------\n",
    "        f0 : float\n",
    "            Peak frequency in kHz.\n",
    "        t : TimeAxis\n",
    "            Discretized values of time in ms.\n",
    "        \"\"\"\n",
    "        a = 0.004\n",
    "        return -2.*a*(t - 1/f0) * np.exp(-a * (t - 1/f0)**2)\n",
    "\n",
    "t0, tn = 0., 300 #300ms is tested first inorder to reproduce Figure 5a i.e a 50ms snapshot\n",
    "dt = 0.15         #0.15ms for timestep \n",
    "\n",
    "time_range = TimeAxis(start=t0, stop=tn, step=dt)\n",
    "nt = time_range.num  # number of time steps\n",
    "\n",
    "f0 = 0.08 # Source peak frequency of 80hz\n",
    "\n",
    "#Initialize ricketwavelet as source\n",
    "src = RickerSource(name='src', grid=grid, f0=f0, npoint=1, \n",
    "                   time_range=time_range)\n",
    "\n",
    "#Location of source\n",
    "src.coordinates.data[:] = [200., 40.]\n"
   ]
  },
  {
   "cell_type": "code",
   "execution_count": 56,
   "metadata": {},
   "outputs": [
    {
     "data": {
      "image/png": "[encoded data removed]",
      "text/plain": [
       "<Figure size 432x288 with 1 Axes>"
      ]
     },
     "metadata": {
      "needs_background": "light"
     },
     "output_type": "display_data"
    }
   ],
   "source": [
    "#NBVAL_SKIP\n",
    "src.show()"
   ]
  },
  {
   "cell_type": "markdown",
   "metadata": {},
   "source": [
    "Robertsson et al.[1] conclude that a staggered scheme of second-order accuracy in time and fourth order accuracy in space is optimally efficient. The same scheme will be used in order to reproduce their results."
   ]
  },
  {
   "cell_type": "code",
   "execution_count": 57,
   "metadata": {},
   "outputs": [],
   "source": [
    "so = 4 #define the space order\n",
    "to = 2 #define the time order"
   ]
  },
  {
   "cell_type": "code",
   "execution_count": 58,
   "metadata": {},
   "outputs": [],
   "source": [
    "def gaussian(x, mu, sig):\n",
    "    return np.exp(-np.power(x - mu, 2.) / (2 * np.power(sig, 2.)))\n",
    "\n",
    "V_p = Function(name='V_p', grid=grid, space_order=so)\n",
    "V_p.data[:, :70] = 1.52 #water\n",
    "V_p.data[:, 70:80] = 1.60 #layer 1\n",
    "V_p.data[:, 80:90] = 1.75 #layer 2\n",
    "V_p.data[:, 80:] = 2.2 #layer 4\n",
    "#Incised Layers\n",
    "for i in range(V_p.shape[0]):\n",
    "    j1 = int(gaussian(i, 350, 85) * 85)\n",
    "    j2 = int(gaussian(i, 350, 100) * 55)\n",
    "    if j1 > 10: V_p.data[i, 90 : 90 + j1] = 1.9 #layer 3\n",
    "    V_p.data[i, 80 : 80 + j2] = 1.75 #layer 2\n",
    "\n",
    "Q_p = Function(name='Q_p', grid=grid, space_order=so)\n",
    "Q_p.data[:, :70] = 10000 #water\n",
    "Q_p.data[:, 70:80] = 40 #layer 1\n",
    "Q_p.data[:, 80:90] = 50 #layer 2\n",
    "Q_p.data[:, 80:] = 100 #layer 4\n",
    "#Incised Layers\n",
    "for i in range(Q_p.shape[0]):\n",
    "    j1 = int(gaussian(i, 350, 85) * 85)\n",
    "    j2 = int(gaussian(i, 350, 100) * 55)\n",
    "    if j1 > 10: Q_p.data[i, 90 : 90 + j1] = 50 #layer 3\n",
    "    Q_p.data[i, 80 : 80 + j2] = 50 #layer 2\n",
    "\n",
    "\n",
    "V_s = Function(name='V_s', grid=grid, space_order=so)\n",
    "V_s.data[:, :70] = 0 #water\n",
    "V_s.data[:, 70:80] = 0.4 #layer 1\n",
    "V_s.data[:, 80:90] = 0.8 #layer 2\n",
    "V_s.data[:, 80:] = 1.2 #layer 4\n",
    "#Incised Layers\n",
    "for i in range(V_s.shape[0]):\n",
    "    j1 = int(gaussian(i, 350, 85) * 85)\n",
    "    j2 = int(gaussian(i, 350, 100) * 55)\n",
    "    if j1 > 10: V_s.data[i, 90 : 90 + j1] = 1.0 #layer 3\n",
    "    V_s.data[i, 80 : 80 + j2] = 0.8 #layer 2\n",
    "\n",
    "Q_s = Function(name='Q_s', grid=grid, space_order=so)\n",
    "Q_s.data[:, :70] = 0 #water\n",
    "Q_s.data[:, 70:80] = 30 #layer 1\n",
    "Q_s.data[:, 80:90] = 35 #layer 2\n",
    "Q_s.data[:, 80:] = 70 #layer 4\n",
    "#Incised Layers\n",
    "for i in range(Q_s.shape[0]):\n",
    "    j1 = int(gaussian(i, 350, 85) * 85)\n",
    "    j2 = int(gaussian(i, 350, 100) * 55)\n",
    "    if j1 > 10: Q_s.data[i, 90 : 90 + j1] = 45 #layer 3\n",
    "    Q_s.data[i, 80 : 80 + j2] = 35 #layer 2\n",
    "\n",
    "\n",
    "density = Function(name='density', grid=grid, space_order=so)\n",
    "density.data[:, :70] = 1.05 #water\n",
    "density.data[:, 70:80] = 1.3 #layer 1\n",
    "density.data[:, 80:90] = 1.5 #layer 2\n",
    "density.data[:, 80:] = 2.0 #layer 4\n",
    "#Incised Layers\n",
    "for i in range(density.shape[0]):\n",
    "    j1 = int(gaussian(i, 350, 85) * 85)\n",
    "    j2 = int(gaussian(i, 350, 100) * 55)\n",
    "    if j1 > 10: density.data[i, 90 : 90 + j1] = 1.5 #layer 3\n",
    "    density.data[i, 80 : 80 + j2] = 1.5 #layer 2\n",
    "\n"
   ]
  },
  {
   "cell_type": "markdown",
   "metadata": {},
   "source": [
    "Setup 8 fields of variables which need to be stored simultanoeusly for the 2D Viscoelastic case present in Numerical Example[1]. \n",
    "\n",
    "$$\n",
    "\\frac{\\partial{v_x}}{\\partial{t}} \\\\\n",
    "\\frac{\\partial{v_z}}{\\partial{t}} \\\\\n",
    "\\frac{\\partial{\\sigma_{xx}}}{\\partial{t}} \\\\\n",
    "\\frac{\\partial{\\sigma_{zz}}}{\\partial{t}} \\\\\n",
    "\\frac{\\partial{\\sigma_{xz}}}{\\partial{t}} \\\\\n",
    "\\frac{\\partial{r_{xx}}}{\\partial{t}} \\\\\n",
    "\\frac{\\partial{r_{zz}}}{\\partial{t}} \\\\\n",
    "\\frac{\\partial{r_{xz}}}{\\partial{t}} \\\\\n",
    "$$\n",
    "\n",
    "Where: \n",
    "\n",
    "$\\sigma_{ij}$ - $ij$th component of symmetric stress tensor \n",
    "\n",
    "$v_{i}$ - $i$th component of velocity\n",
    "\n",
    "$r_{ij}$ - memory-variables \n",
    "\n"
   ]
  },
  {
   "cell_type": "code",
   "execution_count": 59,
   "metadata": {},
   "outputs": [],
   "source": [
    "# Now we create the velocity and pressure fields\n",
    "vx= TimeFunction(name='vx', grid=grid, staggered=x, space_order=so, time_order = to)\n",
    "vz = TimeFunction(name='vz', grid=grid, staggered=z, space_order=so, time_order = to)\n",
    "sxx = TimeFunction(name='sxx', grid=grid, staggered=NODE, space_order=so, time_order = to)\n",
    "szz = TimeFunction(name='szz', grid=grid, staggered=NODE, space_order=so, time_order = to)\n",
    "sxz = TimeFunction(name='sxz', grid=grid, staggered=(x, z), space_order=so, time_order = to)\n",
    "rxx = TimeFunction(name='rxx', grid=grid, staggered=NODE, space_order=so, time_order = to)\n",
    "rzz = TimeFunction(name='rzz', grid=grid, staggered=NODE, space_order=so, time_order = to)\n",
    "rxz = TimeFunction(name='rxz', grid=grid, staggered=(x, z), space_order=so, time_order = to)"
   ]
  },
  {
   "cell_type": "markdown",
   "metadata": {},
   "source": [
    "Relaxation parameters $\\tau_\\sigma, \\tau_\\varepsilon^p, \\tau_\\varepsilon^s$ are needed to describe a theoretical anelastic model based on viscoelastic theory and are defined in the program indirectly by defining Quality factors $(Q)$ for each layer.\n",
    "\n",
    "Transform the previously defined Q-factors into the relaxation parameters which are used in following the numerical scheme [1] given by Thorbecke's parameter notation in the FDELMODC Manual[2]:\n",
    "\n",
    "\\begin{align*}\n",
    "\\tau_\\sigma &= \\frac{\\sqrt{1.0 + \\frac{1.0}{Q_p^2}} - \\frac{1.0}{Q_p}}{f_\\omega} \\\\\n",
    "\\tau_\\varepsilon^p &= \\frac{1.0}{f_\\omega^2 \\tau_\\sigma} \\\\ \n",
    "\\tau_\\varepsilon^s &= \\frac{1.0 + f_\\omega Q_s \\tau_\\sigma}{f_\\omega Q_s - f_\\omega^2 \\tau_\\sigma}\n",
    "\\end{align*}\n",
    "\n"
   ]
  },
  {
   "cell_type": "code",
   "execution_count": 60,
   "metadata": {},
   "outputs": [],
   "source": [
    "\n",
    "# Thorbecke's parameter notation\n",
    "\n",
    "#V_p = model_visco.vp\n",
    "#V_s = model_visco.vs\n",
    "#print(np.sum(W_p != V_p.data), W_p.shape, V_p.data.shape, V_p.data[W_p != V_p.data], W_p[W_p != V_p.data])\n",
    "#density = model_visco.rho\n",
    "\n",
    "cp2 = V_p*V_p\n",
    "cs2 = V_s*V_s\n",
    "ro = 1./density\n",
    "\n",
    "mu = cs2*ro\n",
    "l = (cp2*ro - 2*mu)\n",
    "k = 1.0/(l + 2*mu)\n",
    "# therefore pi = 1./k\n",
    "pi = l + 2*mu\n",
    "\n",
    "t_s = (((1.+1./Q_p**2)**0.5)-1./Q_p)/f0\n",
    "t_ep = 1./(f0**2*t_s)\n",
    "t_es = (1.+f0*Q_s*t_s)/(f0*Q_s-f0**2*t_s)\n"
   ]
  },
  {
   "cell_type": "code",
   "execution_count": 61,
   "metadata": {},
   "outputs": [],
   "source": [
    "# The source injection term\n",
    "src_xx = src.inject(field=sxx.forward, expr=src)\n",
    "src_zz = src.inject(field=szz.forward, expr=src)"
   ]
  },
  {
   "cell_type": "markdown",
   "metadata": {},
   "source": [
    "## Discretizing Viscoelastic wave equations\n",
    "\n",
    "Using the predefined velocity and pressure fields, create a discretized scheme for the following linearized equation of motion and equation of deformation [1]:\n",
    "\n",
    "\\begin{align*}\n",
    "\\frac{\\partial{v_x}}{\\partial{t}} &= \\frac{1}{\\rho} \\Big(\\frac{\\partial{\\sigma_{xx}}}{\\partial{x}} + \\frac{\\partial{\\sigma_{xz}}}{\\partial{z}} \\Big) \\\\\n",
    "\\frac{\\partial{v_z}}{\\partial{t}} &= -\\frac{1}{\\rho} \\Big(\\frac{\\partial{\\sigma_{xz}}}{\\partial{x}} + \\frac{\\partial{\\sigma_{zz}}}{\\partial{z}} \\Big) \\\\\n",
    "\\frac{\\partial{\\sigma_{xx}}}{\\partial{t}} &= \\pi \\frac{\\tau_\\varepsilon^p}{\\tau_\\sigma}\\Big(\\frac{\\partial{v_x}}{\\partial{x}} + \\frac{\\partial{v_z}}{\\partial{z}}\\Big) -2\\mu \\frac{\\tau_\\varepsilon^s}{\\tau_\\sigma}\\frac{\\partial{v_z}}{\\partial{z}} + r_{xx} \\\\\n",
    "\\frac{\\partial{\\sigma_{zz}}}{\\partial{t}} &= \\pi \\frac{\\tau_\\varepsilon^p}{\\tau_\\sigma}\\Big(\\frac{\\partial{v_x}}{\\partial{x}} + \\frac{\\partial{v_z}}{\\partial{z}}\\Big) -2\\mu \\frac{\\tau_\\varepsilon^s}{\\tau_\\sigma}\\frac{\\partial{v_x}}{\\partial{x}} + r_{zz} \\\\\n",
    "\\frac{\\partial{\\sigma_{xz}}}{\\partial{t}} &= \\mu \\frac{\\tau_\\varepsilon^s}{\\tau_\\sigma}\\Big(\\frac{\\partial{v_x}}{\\partial{z}} + \\frac{\\partial{v_z}}{\\partial{x}}\\Big) + r_{xz} \\\\\n",
    "\\frac{\\partial{r_{xx}}}{\\partial{t}} &= -\\frac{1}{\\tau_\\sigma} \\Big(r_{xx} + \\pi\\Big(\\frac{\\tau_\\varepsilon^p}{\\tau_\\sigma} - 1\\Big)\\Big(\\frac{\\partial{v_x}}{\\partial{x}} + \\frac{\\partial{v_z}}{\\partial{z}}\\Big) - 2\\mu \\Big(\\frac{\\tau_\\varepsilon^s}{\\tau_\\sigma} - 1\\Big) \\frac{\\partial{v_z}}{\\partial{z}}\\Big)\\\\ \n",
    "\\frac{\\partial{r_{zz}}}{\\partial{t}} &= -\\frac{1}{\\tau_\\sigma} \\Big(r_{zz} + \\pi\\Big(\\frac{\\tau_\\varepsilon^p}{\\tau_\\sigma} - 1\\Big)\\Big(\\frac{\\partial{v_x}}{\\partial{x}} + \\frac{\\partial{v_z}}{\\partial{z}}\\Big) - 2\\mu \\Big(\\frac{\\tau_\\varepsilon^s}{\\tau_\\sigma} - 1\\Big) \\frac{\\partial{v_x}}{\\partial{x}}\\Big)\\\\ \n",
    "\\frac{\\partial{r_{xz}}}{\\partial{t}} &= -\\frac{1}{\\tau_\\sigma} \\Big(r_{xz} + \\mu\\Big(\\frac{\\tau_\\varepsilon^s}{\\tau_\\sigma} - 1\\Big)\\Big(\\frac{\\partial{v_x}}{\\partial{z}} + \\frac{\\partial{v_z}}{\\partial{x}}\\Big)\\Big) \\\\\n",
    "\\end{align*}\n"
   ]
  },
  {
   "cell_type": "code",
   "execution_count": 66,
   "metadata": {},
   "outputs": [
    {
     "data": {
      "image/png": "[encoded data removed]",
      "text/latex": [
       "$\\displaystyle \\operatorname{vx}{\\left(t + dt,x,z \\right)} = \\frac{0.15 \\left(- \\frac{1.125 \\operatorname{sxz}{\\left(t,x,z \\right)}}{h_{z}} + \\frac{0.0416666667 \\operatorname{sxz}{\\left(t,x,z - h_{z} \\right)}}{h_{z}} + \\frac{1.125 \\operatorname{sxz}{\\left(t,x,z + h_{z} \\right)}}{h_{z}} - \\frac{0.0416666667 \\operatorname{sxz}{\\left(t,x,z + 2 h_{z} \\right)}}{h_{z}} + \\frac{1.125 \\operatorname{sxx}{\\left(t,x,z \\right)}}{h_{x}} + \\frac{0.0416666667 \\operatorname{sxx}{\\left(t,x - 2 h_{x},z \\right)}}{h_{x}} - \\frac{1.125 \\operatorname{sxx}{\\left(t,x - h_{x},z \\right)}}{h_{x}} - \\frac{0.0416666667 \\operatorname{sxx}{\\left(t,x + h_{x},z \\right)}}{h_{x}}\\right)}{\\operatorname{density}{\\left(x,z \\right)}} + \\operatorname{vx}{\\left(t,x,z \\right)}$"
      ],
      "text/plain": [
       "Eq(vx(t + dt, x, z), 0.15*(-1.125*sxz(t, x, z)/h_z + 0.0416666667*sxz(t, x, z - h_z)/h_z + 1.125*sxz(t, x, z + h_z)/h_z - 0.0416666667*sxz(t, x, z + 2*h_z)/h_z + 1.125*sxx(t, x, z)/h_x + 0.0416666667*sxx(t, x - 2*h_x, z)/h_x - 1.125*sxx(t, x - h_x, z)/h_x - 0.0416666667*sxx(t, x + h_x, z)/h_x)/density(x, z) + vx(t, x, z))"
      ]
     },
     "execution_count": 66,
     "metadata": {},
     "output_type": "execute_result"
    }
   ],
   "source": [
    "# fdelmodc reference implementation\n",
    "eq_vx = Eq(vx.forward, vx + dt*ro*(sxx.dx + sxz.dz))\n",
    "\n",
    "eq_vz = Eq(vz.forward, vz + ro*dt*(sxz.dx + szz.dz))\n",
    "\n",
    "eq_sxx = Eq(sxx.forward, sxx + dt*pi*t_ep/t_s*(vx.forward.dx+vz.forward.dz) \\\n",
    "        - 2.*dt*mu*t_es/t_s*vz.forward.dz + dt*rxx.forward)\n",
    "eq_szz = Eq(szz.forward, szz + dt*pi*t_ep/t_s*(vx.forward.dx+vz.forward.dz) \\\n",
    "        - 2.*dt*mu*t_es/t_s*vx.forward.dx + dt*rzz.forward)\n",
    "eq_sxz = Eq(sxz.forward, sxz + dt*mu*t_es/t_s*(vx.forward.dz+vz.forward.dx) + dt*rxz.forward) \n",
    "\n",
    "eq_rxx = Eq(rxx.forward, rxx-dt*1./t_s*(rxx+pi*(t_ep/t_s-1)*(vx.forward.dx+vz.forward.dz) \\\n",
    "         - 2*mu*(t_es/t_s-1)*vz.forward.dz))\n",
    "eq_rzz = Eq(rzz.forward, rzz-dt*1./t_s*(rzz+pi*(t_ep/t_s-1)*(vx.forward.dx+vz.forward.dz) \\\n",
    "         - 2*mu*(t_es/t_s-1)*vx.forward.dx))\n",
    "eq_rxz = Eq(rxz.forward, rxz - dt*1/t_s*(rxz+mu*(t_es/t_s-1)*(vx.forward.dz+vz.forward.dx))) \n",
    "\n",
    "stencil = [eq_vx, eq_vz, eq_rxx, eq_rzz, eq_rxz, eq_sxx, eq_szz, eq_sxz]\n"
   ]
  },
  {
   "cell_type": "markdown",
   "metadata": {},
   "source": [
    "## Implement Snapshotting \n",
    "This can be used to reproduce figures from Numerican Example 2 [1]"
   ]
  },
  {
   "cell_type": "code",
   "execution_count": 46,
   "metadata": {},
   "outputs": [
    {
     "name": "stdout",
     "output_type": "stream",
     "text": [
      "factor is 3\n",
      "t_sub\n"
     ]
    },
    {
     "name": "stderr",
     "output_type": "stream",
     "text": [
      "Operator `Kernel` run in 4.37 s\n"
     ]
    },
    {
     "name": "stdout",
     "output_type": "stream",
     "text": [
      "Saving snaps file\n"
     ]
    }
   ],
   "source": [
    "nsnaps = 100               # desired number of equally spaced snaps\n",
    "factor = round(nt / nsnaps)  # subsequent calculated factor\n",
    "\n",
    "print(f\"factor is {factor}\")\n",
    "\n",
    "#Part 1 #############\n",
    "time_subsampled = ConditionalDimension(\n",
    "    't_sub', parent=grid.time_dim, factor=factor)\n",
    "usave = TimeFunction(name='usave', grid=grid, time_order=to, space_order=so,\n",
    "                     save=(nt + factor - 1) // factor, time_dim=time_subsampled)\n",
    "print(time_subsampled)\n",
    "#####################\n",
    "\n",
    "\n",
    "#Part 2 #############\n",
    "\n",
    "op2 = Operator(stencil + \n",
    "               src_xx + src_zz + [Eq(usave, vx), Eq(usave, vz), Eq(usave, rxx), Eq(usave, rzz), Eq(usave, rxz), \n",
    "                                  Eq(usave, sxx), Eq(usave, szz), Eq(usave, sxz)])  # operator with snapshots\n",
    "\n",
    "# Reset the fields\n",
    "vx.data[:] = 0.\n",
    "vz.data[:] = 0.\n",
    "sxx.data[:] = 0.\n",
    "szz.data[:] = 0.\n",
    "sxz.data[:] = 0.\n",
    "rxx.data[:] = 0.\n",
    "rzz.data[:] = 0.\n",
    "rxz.data[:] = 0.\n",
    "\n",
    "op2(time=nt - 2)\n",
    "#####################\n",
    "\n",
    "\n",
    "#Part 3 #############\n",
    "print(\"Saving snaps file\")\n",
    "# print(\"Dimensions: nz = {:d}, nx = {:d}\".format(Nz, Nx))\n",
    "filename = \"snaps3.bin\"\n",
    "# print(usave.data)\n",
    "usave.data.tofile(filename)\n",
    "#####################\n"
   ]
  },
  {
   "cell_type": "code",
   "execution_count": 47,
   "metadata": {},
   "outputs": [
    {
     "data": {
      "image/png": "[encoded data removed]",
      "text/plain": [
       "<Figure size 1440x1440 with 4 Axes>"
      ]
     },
     "metadata": {
      "needs_background": "light"
     },
     "output_type": "display_data"
    }
   ],
   "source": [
    "#NBVAL_IGNORE_OUTPUT\n",
    "fobj = open(\"snaps3.bin\", \"rb\")\n",
    "# print(usave.data.shape)\n",
    "snaps = np.fromfile(fobj, dtype=np.float32)\n",
    "snaps = np.reshape(snaps, (-1, Nx, Nz))\n",
    "# print(snaps.shape)\n",
    "fobj.close()\n",
    "\n",
    "plt.rcParams['figure.figsize'] = (20, 20)  # Increases figure size\n",
    "    \n",
    "imcnt = 1 # Image counter for plotting\n",
    "plot_num = 4 # Number of images to plot\n",
    "\n",
    "for i in [0, int(50 / 3), int(200 / 3), int(300 / 3)]:\n",
    "   plt.subplot(1,plot_num+1, imcnt+1);\n",
    "   imcnt = imcnt + 1\n",
    "#    plot_image(snaps[i], cmap=\"seismic\")\n",
    "   plt.imshow(np.transpose(snaps[i,:,:]), cmap=\"seismic\")\n",
    "\n",
    "# print(snaps)\n",
    "plt.show() "
   ]
  },
  {
   "cell_type": "code",
   "execution_count": 63,
   "metadata": {},
   "outputs": [],
   "source": [
    "#Forward Operator Setup\n",
    "op = Operator(stencil + src_xx + src_zz)\n",
    "\n",
    "# Reset the fields\n",
    "vx.data[:] = 0.\n",
    "vz.data[:] = 0.\n",
    "sxx.data[:] = 0.\n",
    "szz.data[:] = 0.\n",
    "sxz.data[:] = 0.\n",
    "rxx.data[:] = 0.\n",
    "rzz.data[:] = 0.\n",
    "rxz.data[:] = 0."
   ]
  },
  {
   "cell_type": "code",
   "execution_count": 64,
   "metadata": {},
   "outputs": [
    {
     "name": "stderr",
     "output_type": "stream",
     "text": [
      "Operator `Kernel` run in 3.97 s\n"
     ]
    }
   ],
   "source": [
    "#Run Forward Operator\n",
    "op()"
   ]
  },
  {
   "cell_type": "markdown",
   "metadata": {},
   "source": []
  },
  {
   "cell_type": "markdown",
   "metadata": {},
   "source": [
    "## Plotting the entire 2D wavefield simulation\n",
    "The code block below plots the entire wavefield that has been simulated for 300ms by the source."
   ]
  },
  {
   "cell_type": "code",
   "execution_count": 65,
   "metadata": {},
   "outputs": [
    {
     "data": {
      "image/png": "[encoded data removed]",
      "text/plain": [
       "<Figure size 432x288 with 2 Axes>"
      ]
     },
     "metadata": {
      "needs_background": "light"
     },
     "output_type": "display_data"
    },
    {
     "data": {
      "image/png": "[encoded data removed]",
      "text/plain": [
       "<Figure size 432x288 with 2 Axes>"
      ]
     },
     "metadata": {
      "needs_background": "light"
     },
     "output_type": "display_data"
    },
    {
     "data": {
      "image/png": "[encoded data removed]",
      "text/plain": [
       "<Figure size 432x288 with 2 Axes>"
      ]
     },
     "metadata": {
      "needs_background": "light"
     },
     "output_type": "display_data"
    },
    {
     "data": {
      "image/png": "[encoded data removed]",
      "text/plain": [
       "<Figure size 432x288 with 2 Axes>"
      ]
     },
     "metadata": {
      "needs_background": "light"
     },
     "output_type": "display_data"
    },
    {
     "data": {
      "image/png": "[encoded data removed]",
      "text/plain": [
       "<Figure size 432x288 with 2 Axes>"
      ]
     },
     "metadata": {
      "needs_background": "light"
     },
     "output_type": "display_data"
    },
    {
     "data": {
      "image/png": "[encoded data removed]",
      "text/plain": [
       "<Figure size 432x288 with 2 Axes>"
      ]
     },
     "metadata": {
      "needs_background": "light"
     },
     "output_type": "display_data"
    },
    {
     "data": {
      "image/png": "[encoded data removed]",
      "text/plain": [
       "<Figure size 432x288 with 2 Axes>"
      ]
     },
     "metadata": {
      "needs_background": "light"
     },
     "output_type": "display_data"
    },
    {
     "data": {
      "image/png": "[encoded data removed]",
      "text/plain": [
       "<Figure size 432x288 with 2 Axes>"
      ]
     },
     "metadata": {
      "needs_background": "light"
     },
     "output_type": "display_data"
    }
   ],
   "source": [
    "#Plots\n",
    "\n",
    "plot_image(vx.data[0], cmap=\"seismic\")\n",
    "plot_image(vz.data[0], cmap=\"seismic\")\n",
    "plot_image(sxx.data[0], cmap=\"seismic\")\n",
    "plot_image(szz.data[0], cmap=\"seismic\")\n",
    "plot_image(sxz.data[0], cmap=\"seismic\")\n",
    "plot_image(rxx.data[0], cmap=\"seismic\")\n",
    "plot_image(rzz.data[0], cmap=\"seismic\")\n",
    "plot_image(rxz.data[0], cmap=\"seismic\")\n"
   ]
  },
  {
   "cell_type": "code",
   "execution_count": null,
   "metadata": {},
   "outputs": [],
   "source": []
  },
  {
   "cell_type": "code",
   "execution_count": null,
   "metadata": {},
   "outputs": [],
   "source": []
  },
  {
   "cell_type": "code",
   "execution_count": null,
   "metadata": {},
   "outputs": [],
   "source": []
  }
 ],
 "metadata": {
  "kernelspec": {
   "display_name": "Python 3",
   "language": "python",
   "name": "python3"
  },
  "language_info": {
   "codemirror_mode": {
    "name": "ipython",
    "version": 3
   },
   "file_extension": ".py",
   "mimetype": "text/x-python",
   "name": "python",
   "nbconvert_exporter": "python",
   "pygments_lexer": "ipython3",
   "version": "3.6.8"
  }
 },
 "nbformat": 4,
 "nbformat_minor": 2
}
